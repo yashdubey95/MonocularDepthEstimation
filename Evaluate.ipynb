{
  "nbformat": 4,
  "nbformat_minor": 0,
  "metadata": {
    "kernelspec": {
      "name": "python3",
      "display_name": "Python 3"
    },
    "colab": {
      "name": "Evaluate.ipynb",
      "provenance": [],
      "toc_visible": true,
      "machine_shape": "hm"
    },
    "accelerator": "GPU"
  },
  "cells": [
    {
      "cell_type": "markdown",
      "metadata": {
        "id": "ciqYnDRFzZX1",
        "colab_type": "text"
      },
      "source": [
        "Fetching the Data for Evaluation"
      ]
    },
    {
      "cell_type": "code",
      "metadata": {
        "id": "Qt4ER9jtrDZy",
        "colab_type": "code",
        "colab": {}
      },
      "source": [
        "!wget -cq https://s3-eu-west-1.amazonaws.com/densedepth/nyu_test.zip"
      ],
      "execution_count": null,
      "outputs": []
    },
    {
      "cell_type": "markdown",
      "metadata": {
        "id": "w7anbLbhp3nC",
        "colab_type": "text"
      },
      "source": [
        "# Load model"
      ]
    },
    {
      "cell_type": "code",
      "metadata": {
        "id": "rrktQCLrp3nD",
        "colab_type": "code",
        "colab": {
          "base_uri": "https://localhost:8080/",
          "height": 138
        },
        "outputId": "7b1335b1-474c-4312-b02c-425f2cbff784"
      },
      "source": [
        "import tensorflow as tf\n",
        "# tf.enable_eager_execution()\n",
        "from model import DepthEstimate\n",
        "\n",
        "model = DepthEstimate()\n",
        "checkpoint_path = \"training_1/cp.ckpt\"\n",
        "model.load_weights(checkpoint_path)\n",
        "\n",
        "print('Model weights loaded.')"
      ],
      "execution_count": null,
      "outputs": [
        {
          "output_type": "stream",
          "text": [
            "Downloading data from https://storage.googleapis.com/tensorflow/keras-applications/densenet/densenet169_weights_tf_dim_ordering_tf_kernels_notop.h5\n",
            "51879936/51877672 [==============================] - 2s 0us/step\n",
            "Base model loaded DenseNet169\n",
            "\n",
            "Model created.\n",
            "Model weights loaded.\n"
          ],
          "name": "stdout"
        }
      ]
    },
    {
      "cell_type": "markdown",
      "metadata": {
        "id": "n51dcErHp3nG",
        "colab_type": "text"
      },
      "source": [
        "# Load and evalute on Eigen's test data"
      ]
    },
    {
      "cell_type": "code",
      "metadata": {
        "id": "zVIFraLhp3nG",
        "colab_type": "code",
        "colab": {
          "base_uri": "https://localhost:8080/",
          "height": 84
        },
        "outputId": "a52696dd-cc91-4e86-b2a3-54a40f894632"
      },
      "source": [
        "from evaluate import load_test_data, evaluate\n",
        "\n",
        "rgb, depth, crop = load_test_data()\n",
        "evaluate(model, rgb, depth, crop)"
      ],
      "execution_count": null,
      "outputs": [
        {
          "output_type": "stream",
          "text": [
            "Loading test data...Test data loaded.\n",
            "\n",
            "        a1,         a2,         a3,        rel,        rms,     log_10\n",
            "    0.8371,     0.9722,     0.9939,     0.1286,     0.4742,     0.0553\n"
          ],
          "name": "stdout"
        }
      ]
    }
  ]
}